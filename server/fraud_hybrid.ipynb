{
  "cells": [
    {
      "cell_type": "code",
      "execution_count": 1,
      "metadata": {
        "id": "461FrtfYZGkl"
      },
      "outputs": [],
      "source": [
        "import numpy as np\n",
        "import pandas as pd\n",
        "from sklearn.model_selection import train_test_split\n",
        "from sklearn.ensemble import RandomForestClassifier\n",
        "from sklearn.metrics import accuracy_score, confusion_matrix, classification_report\n",
        "from sklearn.preprocessing import StandardScaler\n",
        "from sklearn.neural_network import MLPClassifier\n",
        "from tensorflow.keras.models import Sequential\n",
        "from tensorflow.keras.layers import Dense\n",
        "from tensorflow.keras.models import load_model\n",
        "import pickle\n",
        "\n",
        "\n",
        "data = pd.read_csv('credit_card_transactions.csv')\n",
        "data = data.drop('transaction_id', axis=1)\n",
        "data = data.drop('receiver_expiry_date', axis=1)\n",
        "data = data.drop('receiver_CVV/CVC', axis=1)\n",
        "data = data.drop('receiver_bank_name', axis=1)\n",
        "data = data.drop('sender_bank_name', axis=1)\n",
        "data = data.drop('time', axis=1)\n",
        "data = data.drop('sender_expiry_date', axis=1)"
      ]
    },
    {
      "cell_type": "code",
      "execution_count": 2,
      "metadata": {},
      "outputs": [],
      "source": [
        "# # Label encoding\n",
        "# from sklearn.preprocessing import LabelEncoder\n",
        "# le_sender = LabelEncoder()\n",
        "# data[\"sender_bank_name\"] = le_sender.fit_transform(data[\"sender_bank_name\"])\n",
        "\n",
        "# le_receiver = LabelEncoder()\n",
        "# data[\"receiver_bank_name\"] = le_receiver.fit_transform(data[\"receiver_bank_name\"])\n",
        "\n",
        "# le_sender_expiry = LabelEncoder()\n",
        "# data[\"sender_expiry_date\"] = le_sender_expiry.fit_transform(data[\"sender_expiry_date\"])\n",
        "\n",
        "# le_sender_cvv = LabelEncoder()\n",
        "# data[\"sender_CVV/CVC\"] = le_sender_cvv.fit_transform(data[\"sender_CVV/CVC\"])"
      ]
    },
    {
      "cell_type": "code",
      "execution_count": 3,
      "metadata": {},
      "outputs": [],
      "source": [
        "X = data.drop('is_fraudulent', axis=1)\n",
        "y = data['is_fraudulent']"
      ]
    },
    {
      "cell_type": "code",
      "execution_count": 4,
      "metadata": {
        "colab": {
          "base_uri": "https://localhost:8080/"
        },
        "id": "4fqVds-4ajaT",
        "outputId": "1f19c20a-d1aa-4ee4-92da-7b75709687b3"
      },
      "outputs": [
        {
          "name": "stdout",
          "output_type": "stream",
          "text": [
            "        sender_card_number  sender_CVV/CVC  receiver_card_number  \\\n",
            "0         7807007958935238             143      7419312478830388   \n",
            "1         6166774269071520             707      6238064142244445   \n",
            "2         6940438243386529             544      8435150293912320   \n",
            "3         7190279905168940             224      7720830884824111   \n",
            "4         6108360084817868             338      7842057686854777   \n",
            "...                    ...             ...                   ...   \n",
            "999995    7651827082411425             364      9134862526205151   \n",
            "999996    9474874213570467             359      6337993645142928   \n",
            "999997    8310594043608541             237      9388585067345151   \n",
            "999998    7588059459931859             762      6733220873933616   \n",
            "999999    9987578700177858             983      9364612464546104   \n",
            "\n",
            "        transfer_amount  \n",
            "0            913.353029  \n",
            "1            299.377917  \n",
            "2            308.881622  \n",
            "3            791.305051  \n",
            "4            158.730742  \n",
            "...                 ...  \n",
            "999995       991.204477  \n",
            "999996       528.578598  \n",
            "999997       161.922337  \n",
            "999998       813.819941  \n",
            "999999       424.357100  \n",
            "\n",
            "[1000000 rows x 4 columns]\n"
          ]
        }
      ],
      "source": [
        "X.head();\n",
        "\n",
        "print(X);"
      ]
    },
    {
      "cell_type": "code",
      "execution_count": 5,
      "metadata": {
        "colab": {
          "base_uri": "https://localhost:8080/"
        },
        "id": "aZtvzJAKaqRf",
        "outputId": "5ebeeb46-59c3-40eb-82b9-af52feee391e"
      },
      "outputs": [
        {
          "name": "stdout",
          "output_type": "stream",
          "text": [
            "0         0\n",
            "1         1\n",
            "2         0\n",
            "3         1\n",
            "4         1\n",
            "         ..\n",
            "999995    0\n",
            "999996    1\n",
            "999997    0\n",
            "999998    0\n",
            "999999    0\n",
            "Name: is_fraudulent, Length: 1000000, dtype: int64\n"
          ]
        }
      ],
      "source": [
        "print(y)"
      ]
    },
    {
      "cell_type": "code",
      "execution_count": 6,
      "metadata": {
        "colab": {
          "base_uri": "https://localhost:8080/"
        },
        "id": "7ObOtA6aav3O",
        "outputId": "33151aa0-25df-4a4e-a846-ad763284dfc6"
      },
      "outputs": [
        {
          "name": "stdout",
          "output_type": "stream",
          "text": [
            "        sender_card_number  sender_CVV/CVC  receiver_card_number  \\\n",
            "0         7807007958935238             143      7419312478830388   \n",
            "1         6166774269071520             707      6238064142244445   \n",
            "2         6940438243386529             544      8435150293912320   \n",
            "3         7190279905168940             224      7720830884824111   \n",
            "4         6108360084817868             338      7842057686854777   \n",
            "...                    ...             ...                   ...   \n",
            "999995    7651827082411425             364      9134862526205151   \n",
            "999996    9474874213570467             359      6337993645142928   \n",
            "999997    8310594043608541             237      9388585067345151   \n",
            "999998    7588059459931859             762      6733220873933616   \n",
            "999999    9987578700177858             983      9364612464546104   \n",
            "\n",
            "        transfer_amount  \n",
            "0            913.353029  \n",
            "1            299.377917  \n",
            "2            308.881622  \n",
            "3            791.305051  \n",
            "4            158.730742  \n",
            "...                 ...  \n",
            "999995       991.204477  \n",
            "999996       528.578598  \n",
            "999997       161.922337  \n",
            "999998       813.819941  \n",
            "999999       424.357100  \n",
            "\n",
            "[1000000 rows x 4 columns]\n",
            "0         0\n",
            "1         1\n",
            "2         0\n",
            "3         1\n",
            "4         1\n",
            "         ..\n",
            "999995    0\n",
            "999996    1\n",
            "999997    0\n",
            "999998    0\n",
            "999999    0\n",
            "Name: is_fraudulent, Length: 1000000, dtype: int64\n"
          ]
        }
      ],
      "source": [
        "X=X.dropna()\n",
        "y=y.dropna()\n",
        "print(X)\n",
        "print(y)"
      ]
    },
    {
      "cell_type": "code",
      "execution_count": 7,
      "metadata": {
        "id": "guFdPMKmaWZo"
      },
      "outputs": [],
      "source": [
        "X_train, X_test, y_train, y_test = train_test_split(X, y, test_size=0.2, random_state=39)"
      ]
    },
    {
      "cell_type": "code",
      "execution_count": 8,
      "metadata": {
        "colab": {
          "base_uri": "https://localhost:8080/"
        },
        "id": "D5IvwGSkbAi0",
        "outputId": "8c8cd669-cca0-45b7-b05d-adb20ea5eed3"
      },
      "outputs": [
        {
          "name": "stdout",
          "output_type": "stream",
          "text": [
            "[[-0.08473204  1.58174044  0.01554939  1.45644268]\n",
            " [ 0.42217235 -1.53335608  0.16045704  0.60996741]\n",
            " [ 0.75191193 -1.34830084 -1.48653176 -1.41058024]\n",
            " ...\n",
            " [-0.93207932 -0.63892243  0.43566404  0.28098612]\n",
            " [ 1.31617808 -1.43311783 -0.96367056 -0.32277152]\n",
            " [-1.14095814 -0.5888033  -1.2223218  -1.06820399]]\n"
          ]
        }
      ],
      "source": [
        "scaler = StandardScaler()\n",
        "X_train_scaled = scaler.fit_transform(X_train)\n",
        "X_test_scaled = scaler.transform(X_test)\n",
        "print(X_train_scaled)"
      ]
    },
    {
      "cell_type": "code",
      "execution_count": 9,
      "metadata": {
        "id": "FPVKtED8bGLn"
      },
      "outputs": [],
      "source": [
        "random_forest_model = RandomForestClassifier(n_estimators=100, random_state=42)\n",
        "random_forest_model.fit(X_train, y_train)\n",
        "y_pred_rf = random_forest_model.predict(X_test)"
      ]
    },
    {
      "cell_type": "code",
      "execution_count": 10,
      "metadata": {},
      "outputs": [],
      "source": [
        "# Save the Random Forest model\n",
        "with open('random_forest_model.pkl', 'wb') as file:\n",
        "    pickle.dump(random_forest_model, file)"
      ]
    },
    {
      "cell_type": "code",
      "execution_count": 11,
      "metadata": {
        "colab": {
          "base_uri": "https://localhost:8080/"
        },
        "id": "WXwULlvqbJhV",
        "outputId": "21347dad-f2a0-4875-f250-1f8ff01e1fa4"
      },
      "outputs": [
        {
          "name": "stdout",
          "output_type": "stream",
          "text": [
            "Epoch 1/5\n",
            "12500/12500 [==============================] - 26s 2ms/step - loss: 5824723812352.0000 - accuracy: 0.4998\n",
            "Epoch 2/5\n",
            "12500/12500 [==============================] - 25s 2ms/step - loss: 4636880142336.0000 - accuracy: 0.4996\n",
            "Epoch 3/5\n",
            "12500/12500 [==============================] - 24s 2ms/step - loss: 4120031002624.0000 - accuracy: 0.5000\n",
            "Epoch 4/5\n",
            "12500/12500 [==============================] - 25s 2ms/step - loss: 3610479427584.0000 - accuracy: 0.4999\n",
            "Epoch 5/5\n",
            "12500/12500 [==============================] - 25s 2ms/step - loss: 3100641591296.0000 - accuracy: 0.4999\n",
            "6250/6250 [==============================] - 10s 2ms/step\n"
          ]
        }
      ],
      "source": [
        "neural_network_model = Sequential()\n",
        "neural_network_model.add(Dense(64, input_dim=X_train.shape[1], activation='relu'))\n",
        "neural_network_model.add(Dense(1, activation='sigmoid'))\n",
        "neural_network_model.compile(loss='binary_crossentropy', optimizer='adam', metrics=['accuracy'])\n",
        "neural_network_model.fit(X_train, y_train, epochs=5, batch_size=64, verbose=1)\n",
        "pred_x=neural_network_model.predict(X_test);\n",
        "y_pred_nn=np.argmax(pred_x,axis=1);"
      ]
    },
    {
      "cell_type": "code",
      "execution_count": 12,
      "metadata": {},
      "outputs": [],
      "source": [
        "# Save the Neural Network model\n",
        "# with open('neural_network_model.pkl', 'wb') as file:\n",
        "#     pickle.dump(neural_network_model, file)\n",
        "neural_network_model.save('neural_network_model.h5')"
      ]
    },
    {
      "cell_type": "code",
      "execution_count": 13,
      "metadata": {
        "id": "5Y_PbgyPbN9v"
      },
      "outputs": [],
      "source": [
        "y_pred_combined = np.round((y_pred_rf + y_pred_nn) / 2)"
      ]
    },
    {
      "cell_type": "code",
      "execution_count": 14,
      "metadata": {
        "colab": {
          "base_uri": "https://localhost:8080/"
        },
        "id": "9ysaltNQbRit",
        "outputId": "6e02df3f-8dee-413f-d671-04d6fed1d625"
      },
      "outputs": [
        {
          "name": "stderr",
          "output_type": "stream",
          "text": [
            "c:\\Users\\vishw\\AppData\\Local\\Programs\\Python\\Python310\\lib\\site-packages\\sklearn\\metrics\\_classification.py:1318: UndefinedMetricWarning: Precision and F-score are ill-defined and being set to 0.0 in labels with no predicted samples. Use `zero_division` parameter to control this behavior.\n",
            "  _warn_prf(average, modifier, msg_start, len(result))\n",
            "c:\\Users\\vishw\\AppData\\Local\\Programs\\Python\\Python310\\lib\\site-packages\\sklearn\\metrics\\_classification.py:1318: UndefinedMetricWarning: Precision and F-score are ill-defined and being set to 0.0 in labels with no predicted samples. Use `zero_division` parameter to control this behavior.\n",
            "  _warn_prf(average, modifier, msg_start, len(result))\n",
            "c:\\Users\\vishw\\AppData\\Local\\Programs\\Python\\Python310\\lib\\site-packages\\sklearn\\metrics\\_classification.py:1318: UndefinedMetricWarning: Precision and F-score are ill-defined and being set to 0.0 in labels with no predicted samples. Use `zero_division` parameter to control this behavior.\n",
            "  _warn_prf(average, modifier, msg_start, len(result))\n"
          ]
        }
      ],
      "source": [
        "accuracy = accuracy_score(y_test, y_pred_combined)\n",
        "conf_matrix = confusion_matrix(y_test, y_pred_combined)\n",
        "classification_rep = classification_report(y_test, y_pred_combined)"
      ]
    },
    {
      "cell_type": "code",
      "execution_count": 15,
      "metadata": {
        "colab": {
          "base_uri": "https://localhost:8080/"
        },
        "id": "KtkGwJ8abXo4",
        "outputId": "bf8c80e4-3fff-40a0-8a73-9ab6999b6307"
      },
      "outputs": [
        {
          "name": "stdout",
          "output_type": "stream",
          "text": [
            "Accuracy: 0.499095\n",
            "Confusion Matrix:\n",
            "[[ 99819      0]\n",
            " [100181      0]]\n",
            "Classification Report:\n",
            "              precision    recall  f1-score   support\n",
            "\n",
            "           0       0.50      1.00      0.67     99819\n",
            "           1       0.00      0.00      0.00    100181\n",
            "\n",
            "    accuracy                           0.50    200000\n",
            "   macro avg       0.25      0.50      0.33    200000\n",
            "weighted avg       0.25      0.50      0.33    200000\n",
            "\n"
          ]
        }
      ],
      "source": [
        "print(f'Accuracy: {accuracy}')\n",
        "print(f'Confusion Matrix:\\n{conf_matrix}')\n",
        "print(f'Classification Report:\\n{classification_rep}')\n"
      ]
    }
  ],
  "metadata": {
    "colab": {
      "provenance": []
    },
    "kernelspec": {
      "display_name": "Python 3",
      "name": "python3"
    },
    "language_info": {
      "codemirror_mode": {
        "name": "ipython",
        "version": 3
      },
      "file_extension": ".py",
      "mimetype": "text/x-python",
      "name": "python",
      "nbconvert_exporter": "python",
      "pygments_lexer": "ipython3",
      "version": "3.10.6"
    }
  },
  "nbformat": 4,
  "nbformat_minor": 0
}
