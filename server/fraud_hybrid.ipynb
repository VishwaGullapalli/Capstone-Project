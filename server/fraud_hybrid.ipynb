{
  "cells": [
    {
      "cell_type": "code",
      "execution_count": 1,
      "metadata": {
        "id": "461FrtfYZGkl"
      },
      "outputs": [],
      "source": [
        "import numpy as np\n",
        "import pandas as pd\n",
        "from sklearn.model_selection import train_test_split\n",
        "from sklearn.ensemble import RandomForestClassifier\n",
        "from sklearn.metrics import accuracy_score, confusion_matrix, classification_report\n",
        "from sklearn.preprocessing import StandardScaler\n",
        "from sklearn.neural_network import MLPClassifier\n",
        "from tensorflow.keras.models import Sequential\n",
        "from tensorflow.keras.layers import Dense\n",
        "from tensorflow.keras.models import load_model\n",
        "import pickle\n",
        "\n",
        "\n",
        "data = pd.read_csv('PS_20174392719_1491204439457_log.csv')\n",
        "data = data.drop('type', axis=1)\n",
        "data = data.drop('nameOrig', axis=1)\n",
        "data = data.drop('nameDest', axis=1)\n",
        "X = data.drop('isFraud', axis=1)\n",
        "y = data['isFraud']"
      ]
    },
    {
      "cell_type": "code",
      "execution_count": 2,
      "metadata": {
        "colab": {
          "base_uri": "https://localhost:8080/"
        },
        "id": "4fqVds-4ajaT",
        "outputId": "1f19c20a-d1aa-4ee4-92da-7b75709687b3"
      },
      "outputs": [
        {
          "name": "stdout",
          "output_type": "stream",
          "text": [
            "         step      amount  oldbalanceOrg  newbalanceOrig  oldbalanceDest  \\\n",
            "0           1     9839.64      170136.00       160296.36            0.00   \n",
            "1           1     1864.28       21249.00        19384.72            0.00   \n",
            "2           1      181.00         181.00            0.00            0.00   \n",
            "3           1      181.00         181.00            0.00        21182.00   \n",
            "4           1    11668.14       41554.00        29885.86            0.00   \n",
            "...       ...         ...            ...             ...             ...   \n",
            "6362615   743   339682.13      339682.13            0.00            0.00   \n",
            "6362616   743  6311409.28     6311409.28            0.00            0.00   \n",
            "6362617   743  6311409.28     6311409.28            0.00        68488.84   \n",
            "6362618   743   850002.52      850002.52            0.00            0.00   \n",
            "6362619   743   850002.52      850002.52            0.00      6510099.11   \n",
            "\n",
            "         newbalanceDest  isFlaggedFraud  \n",
            "0                  0.00               0  \n",
            "1                  0.00               0  \n",
            "2                  0.00               0  \n",
            "3                  0.00               0  \n",
            "4                  0.00               0  \n",
            "...                 ...             ...  \n",
            "6362615       339682.13               0  \n",
            "6362616            0.00               0  \n",
            "6362617      6379898.11               0  \n",
            "6362618            0.00               0  \n",
            "6362619      7360101.63               0  \n",
            "\n",
            "[6362620 rows x 7 columns]\n"
          ]
        }
      ],
      "source": [
        "X.head();\n",
        "\n",
        "print(X);"
      ]
    },
    {
      "cell_type": "code",
      "execution_count": 3,
      "metadata": {
        "colab": {
          "base_uri": "https://localhost:8080/"
        },
        "id": "aZtvzJAKaqRf",
        "outputId": "5ebeeb46-59c3-40eb-82b9-af52feee391e"
      },
      "outputs": [
        {
          "name": "stdout",
          "output_type": "stream",
          "text": [
            "0          0\n",
            "1          0\n",
            "2          1\n",
            "3          1\n",
            "4          0\n",
            "          ..\n",
            "6362615    1\n",
            "6362616    1\n",
            "6362617    1\n",
            "6362618    1\n",
            "6362619    1\n",
            "Name: isFraud, Length: 6362620, dtype: int64\n"
          ]
        }
      ],
      "source": [
        "print(y)"
      ]
    },
    {
      "cell_type": "code",
      "execution_count": 4,
      "metadata": {
        "colab": {
          "base_uri": "https://localhost:8080/"
        },
        "id": "7ObOtA6aav3O",
        "outputId": "33151aa0-25df-4a4e-a846-ad763284dfc6"
      },
      "outputs": [
        {
          "name": "stdout",
          "output_type": "stream",
          "text": [
            "         step      amount  oldbalanceOrg  newbalanceOrig  oldbalanceDest  \\\n",
            "0           1     9839.64      170136.00       160296.36            0.00   \n",
            "1           1     1864.28       21249.00        19384.72            0.00   \n",
            "2           1      181.00         181.00            0.00            0.00   \n",
            "3           1      181.00         181.00            0.00        21182.00   \n",
            "4           1    11668.14       41554.00        29885.86            0.00   \n",
            "...       ...         ...            ...             ...             ...   \n",
            "6362615   743   339682.13      339682.13            0.00            0.00   \n",
            "6362616   743  6311409.28     6311409.28            0.00            0.00   \n",
            "6362617   743  6311409.28     6311409.28            0.00        68488.84   \n",
            "6362618   743   850002.52      850002.52            0.00            0.00   \n",
            "6362619   743   850002.52      850002.52            0.00      6510099.11   \n",
            "\n",
            "         newbalanceDest  isFlaggedFraud  \n",
            "0                  0.00               0  \n",
            "1                  0.00               0  \n",
            "2                  0.00               0  \n",
            "3                  0.00               0  \n",
            "4                  0.00               0  \n",
            "...                 ...             ...  \n",
            "6362615       339682.13               0  \n",
            "6362616            0.00               0  \n",
            "6362617      6379898.11               0  \n",
            "6362618            0.00               0  \n",
            "6362619      7360101.63               0  \n",
            "\n",
            "[6362620 rows x 7 columns]\n",
            "0          0\n",
            "1          0\n",
            "2          1\n",
            "3          1\n",
            "4          0\n",
            "          ..\n",
            "6362615    1\n",
            "6362616    1\n",
            "6362617    1\n",
            "6362618    1\n",
            "6362619    1\n",
            "Name: isFraud, Length: 6362620, dtype: int64\n"
          ]
        }
      ],
      "source": [
        "X=X.dropna()\n",
        "y=y.dropna()\n",
        "print(X)\n",
        "print(y)"
      ]
    },
    {
      "cell_type": "code",
      "execution_count": 5,
      "metadata": {
        "id": "guFdPMKmaWZo"
      },
      "outputs": [],
      "source": [
        "X_train, X_test, y_train, y_test = train_test_split(X, y, test_size=0.2, random_state=39)"
      ]
    },
    {
      "cell_type": "code",
      "execution_count": 6,
      "metadata": {
        "colab": {
          "base_uri": "https://localhost:8080/"
        },
        "id": "D5IvwGSkbAi0",
        "outputId": "8c8cd669-cca0-45b7-b05d-adb20ea5eed3"
      },
      "outputs": [
        {
          "name": "stdout",
          "output_type": "stream",
          "text": [
            "[[-1.60450119  0.36329091 -0.23692319 ... -0.32380565 -0.33351925\n",
            "  -0.00165845]\n",
            " [ 1.05142395 -0.12278162 -0.27681958 ... -0.32380565 -0.30464927\n",
            "  -0.00165845]\n",
            " [-0.43111627 -0.28982184 -0.18452987 ... -0.32380565 -0.33351925\n",
            "  -0.00165845]\n",
            " ...\n",
            " [ 1.12871278 -0.26767692 -0.2887363  ... -0.26979185 -0.28862541\n",
            "  -0.00165845]\n",
            " [ 0.54553345 -0.29709705 -0.28825795 ... -0.32380565 -0.33351925\n",
            "  -0.00165845]\n",
            " [-1.64665873  0.10208128 -0.28883806 ... -0.17831763 -0.03573017\n",
            "  -0.00165845]]\n"
          ]
        }
      ],
      "source": [
        "scaler = StandardScaler()\n",
        "X_train_scaled = scaler.fit_transform(X_train)\n",
        "X_test_scaled = scaler.transform(X_test)\n",
        "print(X_train_scaled)"
      ]
    },
    {
      "cell_type": "code",
      "execution_count": 7,
      "metadata": {
        "id": "FPVKtED8bGLn"
      },
      "outputs": [],
      "source": [
        "random_forest_model = RandomForestClassifier(n_estimators=100, random_state=42)\n",
        "random_forest_model.fit(X_train, y_train)\n",
        "y_pred_rf = random_forest_model.predict(X_test)"
      ]
    },
    {
      "cell_type": "code",
      "execution_count": 8,
      "metadata": {},
      "outputs": [],
      "source": [
        "# Save the Random Forest model\n",
        "with open('random_forest_model.pkl', 'wb') as file:\n",
        "    pickle.dump(random_forest_model, file)"
      ]
    },
    {
      "cell_type": "code",
      "execution_count": 9,
      "metadata": {
        "colab": {
          "base_uri": "https://localhost:8080/"
        },
        "id": "WXwULlvqbJhV",
        "outputId": "21347dad-f2a0-4875-f250-1f8ff01e1fa4"
      },
      "outputs": [
        {
          "name": "stdout",
          "output_type": "stream",
          "text": [
            "Epoch 1/5\n",
            "79533/79533 [==============================] - 183s 2ms/step - loss: 139.7190 - accuracy: 0.9938\n",
            "Epoch 2/5\n",
            "79533/79533 [==============================] - 172s 2ms/step - loss: 57.6170 - accuracy: 0.9956\n",
            "Epoch 3/5\n",
            "79533/79533 [==============================] - 148s 2ms/step - loss: 50.7067 - accuracy: 0.9963\n",
            "Epoch 4/5\n",
            "79533/79533 [==============================] - 149s 2ms/step - loss: 61.0992 - accuracy: 0.9966\n",
            "Epoch 5/5\n",
            "79533/79533 [==============================] - 155s 2ms/step - loss: 78.8088 - accuracy: 0.9966\n",
            "39767/39767 [==============================] - 58s 1ms/step\n"
          ]
        }
      ],
      "source": [
        "neural_network_model = Sequential()\n",
        "neural_network_model.add(Dense(64, input_dim=X_train.shape[1], activation='relu'))\n",
        "neural_network_model.add(Dense(1, activation='sigmoid'))\n",
        "neural_network_model.compile(loss='binary_crossentropy', optimizer='adam', metrics=['accuracy'])\n",
        "neural_network_model.fit(X_train, y_train, epochs=5, batch_size=64, verbose=1)\n",
        "pred_x=neural_network_model.predict(X_test);\n",
        "y_pred_nn=np.argmax(pred_x,axis=1);"
      ]
    },
    {
      "cell_type": "code",
      "execution_count": 10,
      "metadata": {},
      "outputs": [],
      "source": [
        "# Save the Neural Network model\n",
        "# with open('neural_network_model.pkl', 'wb') as file:\n",
        "#     pickle.dump(neural_network_model, file)\n",
        "neural_network_model.save('neural_network_model.h5')"
      ]
    },
    {
      "cell_type": "code",
      "execution_count": 11,
      "metadata": {
        "id": "5Y_PbgyPbN9v"
      },
      "outputs": [],
      "source": [
        "y_pred_combined = np.round((y_pred_rf + y_pred_nn) / 2)"
      ]
    },
    {
      "cell_type": "code",
      "execution_count": 12,
      "metadata": {
        "colab": {
          "base_uri": "https://localhost:8080/"
        },
        "id": "9ysaltNQbRit",
        "outputId": "6e02df3f-8dee-413f-d671-04d6fed1d625"
      },
      "outputs": [
        {
          "name": "stderr",
          "output_type": "stream",
          "text": [
            "c:\\Users\\vishw\\AppData\\Local\\Programs\\Python\\Python310\\lib\\site-packages\\sklearn\\metrics\\_classification.py:1318: UndefinedMetricWarning: Precision and F-score are ill-defined and being set to 0.0 in labels with no predicted samples. Use `zero_division` parameter to control this behavior.\n",
            "  _warn_prf(average, modifier, msg_start, len(result))\n",
            "c:\\Users\\vishw\\AppData\\Local\\Programs\\Python\\Python310\\lib\\site-packages\\sklearn\\metrics\\_classification.py:1318: UndefinedMetricWarning: Precision and F-score are ill-defined and being set to 0.0 in labels with no predicted samples. Use `zero_division` parameter to control this behavior.\n",
            "  _warn_prf(average, modifier, msg_start, len(result))\n",
            "c:\\Users\\vishw\\AppData\\Local\\Programs\\Python\\Python310\\lib\\site-packages\\sklearn\\metrics\\_classification.py:1318: UndefinedMetricWarning: Precision and F-score are ill-defined and being set to 0.0 in labels with no predicted samples. Use `zero_division` parameter to control this behavior.\n",
            "  _warn_prf(average, modifier, msg_start, len(result))\n"
          ]
        }
      ],
      "source": [
        "accuracy = accuracy_score(y_test, y_pred_combined)\n",
        "conf_matrix = confusion_matrix(y_test, y_pred_combined)\n",
        "classification_rep = classification_report(y_test, y_pred_combined)"
      ]
    },
    {
      "cell_type": "code",
      "execution_count": 13,
      "metadata": {
        "colab": {
          "base_uri": "https://localhost:8080/"
        },
        "id": "KtkGwJ8abXo4",
        "outputId": "bf8c80e4-3fff-40a0-8a73-9ab6999b6307"
      },
      "outputs": [
        {
          "name": "stdout",
          "output_type": "stream",
          "text": [
            "Accuracy: 0.9987780191179105\n",
            "Confusion Matrix:\n",
            "[[1270969       0]\n",
            " [   1555       0]]\n",
            "Classification Report:\n",
            "              precision    recall  f1-score   support\n",
            "\n",
            "           0       1.00      1.00      1.00   1270969\n",
            "           1       0.00      0.00      0.00      1555\n",
            "\n",
            "    accuracy                           1.00   1272524\n",
            "   macro avg       0.50      0.50      0.50   1272524\n",
            "weighted avg       1.00      1.00      1.00   1272524\n",
            "\n"
          ]
        }
      ],
      "source": [
        "print(f'Accuracy: {accuracy}')\n",
        "print(f'Confusion Matrix:\\n{conf_matrix}')\n",
        "print(f'Classification Report:\\n{classification_rep}')\n"
      ]
    }
  ],
  "metadata": {
    "colab": {
      "provenance": []
    },
    "kernelspec": {
      "display_name": "Python 3",
      "name": "python3"
    },
    "language_info": {
      "codemirror_mode": {
        "name": "ipython",
        "version": 3
      },
      "file_extension": ".py",
      "mimetype": "text/x-python",
      "name": "python",
      "nbconvert_exporter": "python",
      "pygments_lexer": "ipython3",
      "version": "3.10.6"
    }
  },
  "nbformat": 4,
  "nbformat_minor": 0
}
